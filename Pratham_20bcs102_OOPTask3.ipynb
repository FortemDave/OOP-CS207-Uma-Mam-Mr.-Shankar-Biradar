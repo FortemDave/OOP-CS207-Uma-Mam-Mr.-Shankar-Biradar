{
  "nbformat": 4,
  "nbformat_minor": 0,
  "metadata": {
    "colab": {
      "name": "Pratham_20bcs102_OOPTask3.ipynb",
      "provenance": [],
      "collapsed_sections": [],
      "authorship_tag": "ABX9TyMrMoU2Q66qrvXYXHBN6aQ6",
      "include_colab_link": true
    },
    "kernelspec": {
      "name": "python3",
      "display_name": "Python 3"
    },
    "language_info": {
      "name": "python"
    }
  },
  "cells": [
    {
      "cell_type": "markdown",
      "metadata": {
        "id": "view-in-github",
        "colab_type": "text"
      },
      "source": [
        "<a href=\"https://colab.research.google.com/github/FortemDave/OOP-CS207-Uma-Mam-Mr.-Shankar-Biradar/blob/main/Pratham_20bcs102_OOPTask3.ipynb\" target=\"_parent\"><img src=\"https://colab.research.google.com/assets/colab-badge.svg\" alt=\"Open In Colab\"/></a>"
      ]
    },
    {
      "cell_type": "markdown",
      "metadata": {
        "id": "pJeWsHbNmvmL"
      },
      "source": [
        "# Question - 1"
      ]
    },
    {
      "cell_type": "code",
      "metadata": {
        "colab": {
          "base_uri": "https://localhost:8080/",
          "height": 0
        },
        "id": "fDBbFofemxoa",
        "outputId": "f08c8b95-5666-4260-b484-863d8a1c962b"
      },
      "source": [
        "class Student:\n",
        "    def __init__(self,name,roll_no,age,gender,branch,sem): \n",
        "        self.name = name\n",
        "        self.roll_no = roll_no\n",
        "        self.age = age\n",
        "        self.gender = gender\n",
        "        self.branch = branch\n",
        "        self.sem = sem\n",
        "    \n",
        "class StudentInfoResult(Student):\n",
        "    def __init__(self,name,roll_no,age,gender,branch,sem,total_marks,\n",
        "                 percentage,grade):\n",
        "        Student.__init__(self,name,roll_no,age,gender,branch,sem)\n",
        "        self.total_marks = total_marks\n",
        "        self.percentage = percentage\n",
        "        self.grade = grade\n",
        "        \n",
        "    @classmethod\n",
        "    def Studinput(cls):\n",
        "        name = input(\"Enter Name:\")\n",
        "        roll_no = input(\"Roll No:\")\n",
        "        age = int(input(\"Enter Age:\"))\n",
        "        gender = input(\"Gender:\")\n",
        "        branch = input(\"Branch:\")\n",
        "        sem = int(input(\"Semester:\"))\n",
        "        total_marks = input(\"Marks Obtained:\")\n",
        "        percentage = input(\"Percentage:\")\n",
        "        grade  = input(\"Grade:\")\n",
        "        return StudentInfoResult(name,roll_no,age,gender,branch,sem,total_marks,\n",
        "                                 percentage,grade)\n",
        "\n",
        "    \n",
        "    def printBasic(self):\n",
        "        print(\"STUDENT DETAILS: \")\n",
        "        print(self.name)\n",
        "        print(self.roll_no)\n",
        "        print(self.age)\n",
        "        print(self.gender)\n",
        "        print(self.branch)\n",
        "        print(self.sem)\n",
        "\n",
        "    def printInfo(self):\n",
        "        print(\"STUDENT ACADEMIC PERFORMANCE: \")\n",
        "        print(self.total_marks)\n",
        "        print(self.percentage)\n",
        "        print(self.grade)\n",
        "\n",
        "homie = StudentInfoResult.Studinput()\n",
        "homie.printBasic()\n",
        "homie.printInfo()"
      ],
      "execution_count": 22,
      "outputs": [
        {
          "output_type": "stream",
          "name": "stdout",
          "text": [
            "Enter Name:Rahul\n",
            "Roll No:20BCS106\n",
            "Enter Age:19\n",
            "Gender:Male\n",
            "Branch:CSE\n",
            "Semester:3\n",
            "Marks Obtained:450\n",
            "Percentage:89%\n",
            "Grade:A-\n",
            "STUDENT DETAILS: \n",
            "Rahul\n",
            "20BCS106\n",
            "19\n",
            "Male\n",
            "CSE\n",
            "3\n",
            "STUDENT ACADEMIC PERFORMANCE: \n",
            "450\n",
            "89%\n",
            "A-\n"
          ]
        }
      ]
    },
    {
      "cell_type": "markdown",
      "metadata": {
        "id": "zr-TUxWVpBko"
      },
      "source": [
        "# Question - 2"
      ]
    },
    {
      "cell_type": "code",
      "metadata": {
        "colab": {
          "base_uri": "https://localhost:8080/",
          "height": 0
        },
        "id": "rO0J4ij4pDNN",
        "outputId": "5435fc59-f445-4f60-91bb-702aba244661"
      },
      "source": [
        "class pdf:\n",
        "    def __init__(self,creator,desc,size):\n",
        "        self.creator = creator\n",
        "        self.description = desc\n",
        "        self.size = size\n",
        "\n",
        "class pictures(pdf):\n",
        "    def __init__(self,creator,desc,size,dimentions = [0,0]):\n",
        "        self.dimensions = dimensions\n",
        "        pdf.__init__(self,creator,desc,size)\n",
        "\n",
        "\n",
        "    def FileSize(self,threshold):\n",
        "        if threshold[0]*threshold[1]<self.dimensions[0]*self.dimensions[1]:\n",
        "            return True\n",
        "            print(\"File Larger than Given threshhold.\")\n",
        "        return False\n",
        "        print(\"File does not exceed given Limit.\")\n",
        "    \n",
        "    def DocDetails(self):\n",
        "        if self.dimentions != [0,0]:\n",
        "            print(f\"Dimensions: {self.dimensions[0]} X {self.dimensions[1]}\")\n",
        "\n",
        "        print(f\"File Creator: {self.creator}\")\n",
        "        print(f\"Description: {self.description}\")\n",
        "        print(f\"File Size(kb): {self.size}\")\n",
        "\n",
        "random_pic = pictures(\"Sajan\",\"It was taken Yesterday.\",1024,[1920,1080])\n",
        "random_pic.FileSize([3400,920])\n",
        "random_pic.DocDetails()\n",
        "\n",
        "random_pdf = pictures(\"Jagan\",\"It is a good photo.\",2048)\n",
        "random_pdf.DocDetails()"
      ],
      "execution_count": 20,
      "outputs": [
        {
          "output_type": "stream",
          "name": "stdout",
          "text": [
            "Dimentions: 1920 X 1080\n",
            "File Creator: Sajan\n",
            "Description: It was taken Yesterday.\n",
            "File Size(kb): 1024\n",
            "File Creator: Jagan\n",
            "Description: It is a good photo.\n",
            "File Size(kb): 2048\n"
          ]
        }
      ]
    },
    {
      "cell_type": "markdown",
      "metadata": {
        "id": "MVVSMRfVyr1w"
      },
      "source": [
        "# Question - 3"
      ]
    },
    {
      "cell_type": "code",
      "metadata": {
        "colab": {
          "base_uri": "https://localhost:8080/",
          "height": 0
        },
        "id": "D50tx_z-y1lO",
        "outputId": "2d51646e-a9dd-405d-c581-3386b9106799"
      },
      "source": [
        "class Vehicle:\n",
        "    def __init__(self,name,milage,capacity):\n",
        "        self.name = name\n",
        "        self.milage = milage\n",
        "        self.capacity = capacity\n",
        "\n",
        "    def Fare(self):\n",
        "        fare = self.capacity * 100\n",
        "        print(f\"Fare is {fare}\")\n",
        "        return fare\n",
        "\n",
        "class Bus(Vehicle):\n",
        "    maintenance = 0.1\n",
        "\n",
        "    def __init__(self,name,milage):\n",
        "        Vehicle.__init__(self,name,milage,50)\n",
        "\n",
        "    def Fare(self):\n",
        "        fare = (1 + Bus.maintenance) * (self.capacity * 100)\n",
        "        print(f\"Fare is {fare}\")\n",
        "\n",
        "ola_cab = Vehicle(\"Sedan\",11,4)\n",
        "ola_cab.Fare()\n",
        "\n",
        "bus_ride = Bus(\"Mercedes\",7)\n",
        "bus_ride.Fare()"
      ],
      "execution_count": 34,
      "outputs": [
        {
          "output_type": "stream",
          "name": "stdout",
          "text": [
            "Fare is 400\n",
            "Fare is 5500.0\n"
          ]
        }
      ]
    }
  ]
}