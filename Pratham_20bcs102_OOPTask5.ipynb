{
  "nbformat": 4,
  "nbformat_minor": 0,
  "metadata": {
    "colab": {
      "name": "Pratham_20bcs102_OOPTask5.ipynb",
      "provenance": [],
      "collapsed_sections": [],
      "authorship_tag": "ABX9TyNrx166da5ZmgusnfjdY4Yq",
      "include_colab_link": true
    },
    "kernelspec": {
      "name": "python3",
      "display_name": "Python 3"
    },
    "language_info": {
      "name": "python"
    }
  },
  "cells": [
    {
      "cell_type": "markdown",
      "metadata": {
        "id": "view-in-github",
        "colab_type": "text"
      },
      "source": [
        "<a href=\"https://colab.research.google.com/github/FortemDave/OOP-CS207-Uma-Mam-Mr.-Shankar-Biradar/blob/main/Pratham_20bcs102_OOPTask5.ipynb\" target=\"_parent\"><img src=\"https://colab.research.google.com/assets/colab-badge.svg\" alt=\"Open In Colab\"/></a>"
      ]
    },
    {
      "cell_type": "markdown",
      "metadata": {
        "id": "1RpjHal5aNDT"
      },
      "source": [
        "##Question - 1"
      ]
    },
    {
      "cell_type": "code",
      "metadata": {
        "colab": {
          "base_uri": "https://localhost:8080/",
          "height": 0
        },
        "id": "yOUfCROKaOZo",
        "outputId": "c9d6572a-ab8e-432c-ef82-2ae8417b1b4d"
      },
      "source": [
        "from math import pi\n",
        "\n",
        "class Shape:\n",
        "    def __init__(self):\n",
        "        pass\n",
        "\n",
        "class Circle(Shape):\n",
        "    def __init__(self,radius):\n",
        "        self.radius = radius\n",
        "        super().__init__()\n",
        "\n",
        "    def area(self):\n",
        "        return pi * self.radius**2\n",
        "\n",
        "class Square(Shape):\n",
        "    def __init__(self,side):\n",
        "        self.side = side\n",
        "        super().__init__()\n",
        "\n",
        "    def area(self):\n",
        "        return self.side**2\n",
        "\n",
        "class Rectangle(Shape):\n",
        "    def __init__(self,length,breadth):\n",
        "        self.length = length\n",
        "        self.breadth = breadth\n",
        "        super().__init__()\n",
        "    def area(self):\n",
        "        return self.length * self.breadth\n",
        "\n",
        "val1 = Circle(10)\n",
        "val2 = Square(5)\n",
        "val3 = Rectangle(10,5)\n",
        "\n",
        "for obj in (val1,val2,val3):\n",
        "    print(obj.area())"
      ],
      "execution_count": 1,
      "outputs": [
        {
          "output_type": "stream",
          "name": "stdout",
          "text": [
            "314.1592653589793\n",
            "25\n",
            "50\n"
          ]
        }
      ]
    },
    {
      "cell_type": "markdown",
      "metadata": {
        "id": "5C-fhvWTaS3N"
      },
      "source": [
        "##Question-2"
      ]
    },
    {
      "cell_type": "code",
      "metadata": {
        "colab": {
          "base_uri": "https://localhost:8080/",
          "height": 0
        },
        "id": "Q2qdxLRiaUP4",
        "outputId": "80570ae4-4c25-491c-9663-0dccba4620ea"
      },
      "source": [
        "class Travel:\n",
        "    def __init__(self,people,dist,transp):\n",
        "        self.__passengers = people\n",
        "        self._dist_travel = dist\n",
        "        self._modeoftrans = transp\n",
        "\n",
        "    def getpeople(self):\n",
        "        return self.__passengers\n",
        "\n",
        "class Train(Travel):\n",
        "    def __init__(self,people,dist,cost = 60):\n",
        "        self.cost = cost\n",
        "        super().__init__(people,dist,\"Train\")\n",
        "\n",
        "    def tripcost(self):\n",
        "        return self.cost * super().getpeople()\n",
        "\n",
        "class Bus(Travel):\n",
        "    def __init__(self,people,dist,cost = 100):\n",
        "        self.cost = cost\n",
        "        super().__init__(people,dist,\"Bus\")\n",
        "\n",
        "    def tripcost(self):\n",
        "        return self.cost * super().getpeople()\n",
        "\n",
        "family1 = Train(4,400)\n",
        "family2 = Bus(4,400)\n",
        "for obj in (family1,family2):\n",
        "    print(f\"Cost of Travelling in a {str(type(obj).__name__)} is : {obj.tripcost()}\"  )"
      ],
      "execution_count": 3,
      "outputs": [
        {
          "output_type": "stream",
          "name": "stdout",
          "text": [
            "Cost of Travelling in a Train is : 240\n",
            "Cost of Travelling in a Bus is : 400\n"
          ]
        }
      ]
    },
    {
      "cell_type": "markdown",
      "metadata": {
        "id": "gW1iDbDUeKYe"
      },
      "source": [
        "##Question-3"
      ]
    },
    {
      "cell_type": "code",
      "metadata": {
        "colab": {
          "base_uri": "https://localhost:8080/",
          "height": 0
        },
        "id": "BNYE71gSeLUX",
        "outputId": "5ba10ad3-6cdc-4ab9-8db7-bcf0d6dfc8f3"
      },
      "source": [
        "class Car():\n",
        "    def __init__(self,model):\n",
        "        self.model_num = model\n",
        "\n",
        "    @classmethod\n",
        "    def swap(cls,cls1,cls2):\n",
        "        cls1.model_num,cls2.model_num = \\\n",
        "        cls2.model_num, cls1.model_num\n",
        "\n",
        "italia458 = Car(\"Ferrari\")\n",
        "terzo_millennio = Car(\"Lamborghini\")\n",
        "\n",
        "print(\"Pre-Swap:\")\n",
        "\n",
        "for obj in (italia458,terzo_millennio):\n",
        "    print(obj.model_num)\n",
        "\n",
        "Car.swap(italia458,terzo_millennio)\n",
        "\n",
        "print(\"Post-Swap:\")\n",
        "\n",
        "for obj in (italia458,terzo_millennio):\n",
        "    print(obj.model_num)"
      ],
      "execution_count": 4,
      "outputs": [
        {
          "output_type": "stream",
          "name": "stdout",
          "text": [
            "Pre-Swap:\n",
            "Ferrari\n",
            "Lamborghini\n",
            "Post-Swap:\n",
            "Lamborghini\n",
            "Ferrari\n"
          ]
        }
      ]
    }
  ]
}