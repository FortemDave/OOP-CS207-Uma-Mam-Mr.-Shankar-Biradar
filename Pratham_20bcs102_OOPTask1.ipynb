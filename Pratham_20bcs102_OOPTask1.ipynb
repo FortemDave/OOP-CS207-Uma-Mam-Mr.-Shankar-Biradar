{
  "nbformat": 4,
  "nbformat_minor": 0,
  "metadata": {
    "colab": {
      "name": "Pratham_20bcs102_OOPTask1.ipynb",
      "provenance": [],
      "collapsed_sections": [],
      "authorship_tag": "ABX9TyNMIg3MAm3RbMqH1+3JsB0p",
      "include_colab_link": true
    },
    "kernelspec": {
      "name": "python3",
      "display_name": "Python 3"
    },
    "language_info": {
      "name": "python"
    }
  },
  "cells": [
    {
      "cell_type": "markdown",
      "metadata": {
        "id": "view-in-github",
        "colab_type": "text"
      },
      "source": [
        "<a href=\"https://colab.research.google.com/github/FortemDave/OOP-CS207-Uma-Mam-Mr.-Shankar-Biradar/blob/main/Pratham_20bcs102_OOPTask1.ipynb\" target=\"_parent\"><img src=\"https://colab.research.google.com/assets/colab-badge.svg\" alt=\"Open In Colab\"/></a>"
      ]
    },
    {
      "cell_type": "markdown",
      "metadata": {
        "id": "Rg-5WBkTKkRL"
      },
      "source": [
        "## Problem - *1*"
      ]
    },
    {
      "cell_type": "code",
      "metadata": {
        "id": "bivJCWl8Kpge"
      },
      "source": [
        "def leap_year(value):\n",
        "    if value % 4 == 0:\n",
        "        if value % 100 == 0:\n",
        "            if value % 400 == 0:\n",
        "                return True\n",
        "            else:\n",
        "                return False\n",
        "        else:\n",
        "            return True\n",
        "    else:\n",
        "        return False"
      ],
      "execution_count": 92,
      "outputs": []
    },
    {
      "cell_type": "code",
      "metadata": {
        "id": "J1dKSLHPMMr2"
      },
      "source": [
        "def print_statement(year):\n",
        "    bul_val = leap_year(year)\n",
        "    if bul_val:\n",
        "        print(\"It is a Leap year.\")\n",
        "    else:\n",
        "        print(\"It is NOT a leap year\")"
      ],
      "execution_count": 93,
      "outputs": []
    },
    {
      "cell_type": "code",
      "metadata": {
        "colab": {
          "base_uri": "https://localhost:8080/"
        },
        "id": "jLu7SHGMMfqi",
        "outputId": "97b491eb-645a-4bc4-a54e-fe32ce32c237"
      },
      "source": [
        "inp_val = int(input(\"Enter the Year: \"))\n",
        "print_statement(inp_val)"
      ],
      "execution_count": 95,
      "outputs": [
        {
          "output_type": "stream",
          "name": "stdout",
          "text": [
            "Enter the Year: 4000\n",
            "It is a Leap year.\n"
          ]
        }
      ]
    },
    {
      "cell_type": "markdown",
      "metadata": {
        "id": "WLq9GwVXNeu2"
      },
      "source": [
        "## Problem - *2*"
      ]
    },
    {
      "cell_type": "code",
      "metadata": {
        "id": "-jWKCMx0No7l"
      },
      "source": [
        "def prob_2(value):\n",
        "    if value % 2 != 0 or (value >= 6 and value <= 20):\n",
        "        print(\"Weird\")\n",
        "    else:\n",
        "        print(\"Not Weird\")"
      ],
      "execution_count": null,
      "outputs": []
    },
    {
      "cell_type": "code",
      "metadata": {
        "colab": {
          "base_uri": "https://localhost:8080/"
        },
        "id": "K44Z-O6IOeTd",
        "outputId": "8e386853-df92-4371-be8f-7512936cde72"
      },
      "source": [
        "inp_val = int(input(\"Enter the N Value: \"))\n",
        "prob_2(inp_val)"
      ],
      "execution_count": 98,
      "outputs": [
        {
          "output_type": "stream",
          "name": "stdout",
          "text": [
            "Enter the N Value: 22\n",
            "Not Weird\n"
          ]
        }
      ]
    },
    {
      "cell_type": "markdown",
      "metadata": {
        "id": "AESu3832PC8h"
      },
      "source": [
        "## Problem - *3*"
      ]
    },
    {
      "cell_type": "code",
      "metadata": {
        "id": "ckU7sgWGPFC-"
      },
      "source": [
        "def prob_3():\n",
        "    list_attendees = input(\"Enter List: \").upper()\n",
        "    check_type = input(\"Enter Person: \").upper()\n",
        "\n",
        "    mid = len(list_attendees) // 2\n",
        "\n",
        "    if check_type in list_attendees[mid:-1]:\n",
        "        print(\"Fashionably late.\")\n",
        "    else:\n",
        "        print(\"NOT Fashionably late\")\n",
        "\n",
        "#[\"Hardik\",\"Rahul\",\"Virat\",\"Rishabh\",\"Mahi\",\"Rohit\",\"Rahane\"]"
      ],
      "execution_count": 102,
      "outputs": []
    },
    {
      "cell_type": "code",
      "metadata": {
        "colab": {
          "base_uri": "https://localhost:8080/"
        },
        "id": "Ssu4wlHUSQ1O",
        "outputId": "ea909221-7a5e-4866-a4d4-f01d99889094"
      },
      "source": [
        "prob_3()"
      ],
      "execution_count": 101,
      "outputs": [
        {
          "output_type": "stream",
          "name": "stdout",
          "text": [
            "Enter List: [\"Hardik\",\"Rahul\",\"Virat\",\"Rishabh\",\"Mahi\",\"Rohit\",\"Rahane\"]\n",
            "Enter Person: mahi\n",
            "Fashionably late.\n"
          ]
        }
      ]
    },
    {
      "cell_type": "markdown",
      "metadata": {
        "id": "bgeafsCXTLqX"
      },
      "source": [
        "## Problem - *4*"
      ]
    },
    {
      "cell_type": "code",
      "metadata": {
        "id": "l9s5kDrqTNq2"
      },
      "source": [
        "def prob_4(doc_list,keyword):\n",
        "\n",
        "    copied_list = doc_list\n",
        "    custom_indx = []\n",
        "    \n",
        "    for indx in copied_list:\n",
        "        original = indx\n",
        "        indx = indx.replace(\",\",\" \").replace(\".\",\" \").upper()\n",
        "        if keyword.upper() in indx:\n",
        "            custom_indx.append(original)\n",
        "    \n",
        "    return custom_indx"
      ],
      "execution_count": 84,
      "outputs": []
    },
    {
      "cell_type": "code",
      "metadata": {
        "colab": {
          "base_uri": "https://localhost:8080/"
        },
        "id": "JwEz1uxMbY0f",
        "outputId": "8ac876d7-6e5b-4e0e-c3e9-84eb3fe3794e"
      },
      "source": [
        "list_input = doc_list = [\"The Learn Python Challenge Rohit.\",\"They bought a car\", \"Bangalore.\"]\n",
        "keyword = input(\"Search Word: \")\n",
        "\n",
        "final_list = prob_4(list_input,keyword)\n",
        "\n",
        "for sentence in range(0,len(final_list)):\n",
        "    print(f\"{sentence+1}: {final_list[sentence]}\")"
      ],
      "execution_count": 104,
      "outputs": [
        {
          "output_type": "stream",
          "name": "stdout",
          "text": [
            "Search Word: bangalore\n",
            "1: Bangalore.\n"
          ]
        }
      ]
    },
    {
      "cell_type": "markdown",
      "metadata": {
        "id": "Fk8kXxFokS16"
      },
      "source": [
        "## Problem - *5*"
      ]
    },
    {
      "cell_type": "code",
      "metadata": {
        "id": "L5-kp3q1kVPr"
      },
      "source": [
        "def gross_pay(basic_pay):\n",
        "    #gross pay = basic_pay + HRA + DA\n",
        "    #gross pay = basic pay + 20% basic pay + 40% basic pay\n",
        "    #gross pay = (1+0.2+0.4) * basic_pay\n",
        "    return (1.6 * basic_pay)"
      ],
      "execution_count": 90,
      "outputs": []
    },
    {
      "cell_type": "code",
      "metadata": {
        "colab": {
          "base_uri": "https://localhost:8080/"
        },
        "id": "JhjB2pLCkucT",
        "outputId": "26275cb7-4ae3-4ccf-83cb-4b47a7342b60"
      },
      "source": [
        "basic_inc = int(input(\"Enter Basic Pay: \"))\n",
        "print(f\"Your Gross Pay is {gross_pay(basic_inc)}\")"
      ],
      "execution_count": 105,
      "outputs": [
        {
          "output_type": "stream",
          "name": "stdout",
          "text": [
            "Enter Basic Pay: 3214\n",
            "Your Gross Pay is 5142.400000000001\n"
          ]
        }
      ]
    },
    {
      "cell_type": "code",
      "metadata": {
        "id": "mQ18_daYngyc"
      },
      "source": [
        ""
      ],
      "execution_count": null,
      "outputs": []
    }
  ]
}