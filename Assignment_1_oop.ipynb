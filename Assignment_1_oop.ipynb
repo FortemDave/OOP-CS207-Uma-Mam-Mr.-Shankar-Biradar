{
  "nbformat": 4,
  "nbformat_minor": 0,
  "metadata": {
    "colab": {
      "name": "Assignment_1_oop.ipynb",
      "provenance": [],
      "authorship_tag": "ABX9TyPpO+l4AvWXPfsrslxLktK0",
      "include_colab_link": true
    },
    "kernelspec": {
      "name": "python3",
      "display_name": "Python 3"
    },
    "language_info": {
      "name": "python"
    }
  },
  "cells": [
    {
      "cell_type": "markdown",
      "metadata": {
        "id": "view-in-github",
        "colab_type": "text"
      },
      "source": [
        "<a href=\"https://colab.research.google.com/github/FortemDave/OOP-CS207-Uma-Mam-Mr.-Shankar-Biradar/blob/main/Assignment_1_oop.ipynb\" target=\"_parent\"><img src=\"https://colab.research.google.com/assets/colab-badge.svg\" alt=\"Open In Colab\"/></a>"
      ]
    },
    {
      "cell_type": "code",
      "metadata": {
        "id": "yNzsbwQUcwIj"
      },
      "source": [
        ""
      ],
      "execution_count": null,
      "outputs": []
    },
    {
      "cell_type": "markdown",
      "metadata": {
        "id": "x0cW287yZiQo"
      },
      "source": [
        "# QUIZ\n"
      ]
    },
    {
      "cell_type": "markdown",
      "metadata": {
        "id": "kpLyjVb6ZhLJ"
      },
      "source": [
        ""
      ]
    },
    {
      "cell_type": "code",
      "metadata": {
        "colab": {
          "base_uri": "https://localhost:8080/"
        },
        "id": "hQqk02OaZwY9",
        "outputId": "13253abe-b0a5-44e5-96db-d94552e6a6c3"
      },
      "source": [
        "def MaxNums(a,b):\n",
        "    if a > b:\n",
        "        return a\n",
        "    return b\n",
        "\n",
        "val_a = int(input(\"Enter Value 1: \"))\n",
        "val_b = int(input(\"Enter Value 2: \"))\n",
        "\n",
        "print(\"Maximum of \" + str(val_a) + \" and \" + str(val_b) + \" is \" + str(MaxNums(val_a,val_b)))"
      ],
      "execution_count": 1,
      "outputs": [
        {
          "output_type": "stream",
          "text": [
            "Enter Value 1: 43\n",
            "Enter Value 2: 55\n",
            "Maximum of 43 and 55 is 55\n"
          ],
          "name": "stdout"
        }
      ]
    },
    {
      "cell_type": "markdown",
      "metadata": {
        "id": "nzN_7W07aT9L"
      },
      "source": [
        "Number Game: Printing Values on different conditions.\n"
      ]
    },
    {
      "cell_type": "code",
      "metadata": {
        "colab": {
          "base_uri": "https://localhost:8080/"
        },
        "id": "Cat8b7zGacJf",
        "outputId": "859b149d-6f32-4325-8a98-bdb7ce24a4f4"
      },
      "source": [
        "def numberGame(val):\n",
        "    if val % 3 == 0 and val % 5 == 0:\n",
        "        return \"numberGame\"\n",
        "    if val % 3 == 0:\n",
        "        return \"number\"\n",
        "    elif val % 5 == 0:\n",
        "        return \"Game\"\n",
        "    else:\n",
        "        return val\n",
        "    \n",
        "value = int(input(\"Enter Number: \"))\n",
        "print(f\"The Output is : {numberGame(value)}\")"
      ],
      "execution_count": 2,
      "outputs": [
        {
          "output_type": "stream",
          "text": [
            "Enter Number: 15\n",
            "The Output is : numberGame\n"
          ],
          "name": "stdout"
        }
      ]
    },
    {
      "cell_type": "markdown",
      "metadata": {
        "id": "gPXc-aGTamhz"
      },
      "source": [
        "Function to grade drivers on their speed. [7-10]"
      ]
    },
    {
      "cell_type": "code",
      "metadata": {
        "colab": {
          "base_uri": "https://localhost:8080/"
        },
        "id": "NAFREnyQazNp",
        "outputId": "af083091-9513-45e5-fd99-0605a66b3de7"
      },
      "source": [
        "def driverSpeed(speed):\n",
        "    if speed < 70:\n",
        "        print(\"OK\")\n",
        "    else:\n",
        "        points = (speed - 70) / 5\n",
        "        if points > 12:\n",
        "            print(\"License suspended\")\n",
        "        else:\n",
        "            print(\"Points: \" + str(int(points)))\n",
        "\n",
        "value = int(input(\"Enter Speed: \"))\n",
        "driverSpeed(value)"
      ],
      "execution_count": 3,
      "outputs": [
        {
          "output_type": "stream",
          "text": [
            "Enter Speed: 90\n",
            "Points: 4\n"
          ],
          "name": "stdout"
        }
      ]
    },
    {
      "cell_type": "markdown",
      "metadata": {
        "id": "c_asLOGZa5M_"
      },
      "source": [
        "Show Numbers:"
      ]
    },
    {
      "cell_type": "code",
      "metadata": {
        "colab": {
          "base_uri": "https://localhost:8080/"
        },
        "id": "93ldlSa9bBjH",
        "outputId": "075a82d3-bc35-487d-8c56-3344a072e9a8"
      },
      "source": [
        "def showNumbers(limit):\n",
        "    for val in range(0,limit+1):\n",
        "        if val % 2 == 0:\n",
        "            print(str(val) + \" EVEN\")\n",
        "        else:\n",
        "            print(str(val) + \" ODD\")\n",
        "            \n",
        "value = int(input(\"Enter Limit: \"))\n",
        "showNumbers(value)"
      ],
      "execution_count": 4,
      "outputs": [
        {
          "output_type": "stream",
          "text": [
            "Enter Limit: 7\n",
            "0 EVEN\n",
            "1 ODD\n",
            "2 EVEN\n",
            "3 ODD\n",
            "4 EVEN\n",
            "5 ODD\n",
            "6 EVEN\n",
            "7 ODD\n"
          ],
          "name": "stdout"
        }
      ]
    },
    {
      "cell_type": "markdown",
      "metadata": {
        "id": "ugFM_FUbbFuh"
      },
      "source": [
        "Show Sign Shape"
      ]
    },
    {
      "cell_type": "code",
      "metadata": {
        "colab": {
          "base_uri": "https://localhost:8080/"
        },
        "id": "ETrQB61obIUN",
        "outputId": "9eaeb3c0-6d4b-4352-99b9-68096c64cf16"
      },
      "source": [
        "def showSigns(rows):\n",
        "    for i in range(0,rows+1):\n",
        "            print(i * '&')\n",
        "    \n",
        "value = int(input(\"Enter Row Size: \"))\n",
        "showSigns(value)"
      ],
      "execution_count": 5,
      "outputs": [
        {
          "output_type": "stream",
          "text": [
            "Enter Row Size: 4\n",
            "\n",
            "&\n",
            "&&\n",
            "&&&\n",
            "&&&&\n"
          ],
          "name": "stdout"
        }
      ]
    },
    {
      "cell_type": "markdown",
      "metadata": {
        "id": "DYcmGnRQbL8j"
      },
      "source": [
        "Prime Number Printer:"
      ]
    },
    {
      "cell_type": "code",
      "metadata": {
        "colab": {
          "base_uri": "https://localhost:8080/"
        },
        "id": "hIHwJ5rVbOFD",
        "outputId": "eaf7efe3-ac78-46df-e77d-e45c03bdb790"
      },
      "source": [
        "def isNumPrime(max):\n",
        "    for i in range(2,max+1):\n",
        "        switch = 1\n",
        "        for j in range(2,i):\n",
        "            if i % j == 0:\n",
        "                switch = 0\n",
        "                break\n",
        "        if switch == 1:\n",
        "            print(i)\n",
        "\n",
        "    \n",
        "value = int(input(\"Enter Max Size: \"))\n",
        "isNumPrime(value)"
      ],
      "execution_count": 6,
      "outputs": [
        {
          "output_type": "stream",
          "text": [
            "Enter Max Size: 17\n",
            "2\n",
            "3\n",
            "5\n",
            "7\n",
            "11\n",
            "13\n",
            "17\n"
          ],
          "name": "stdout"
        }
      ]
    }
  ]
}