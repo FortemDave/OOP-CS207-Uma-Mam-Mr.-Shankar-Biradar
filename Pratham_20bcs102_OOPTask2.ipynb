{
  "nbformat": 4,
  "nbformat_minor": 0,
  "metadata": {
    "colab": {
      "name": "Pratham_20bcs102_OOPTask2.ipynb",
      "provenance": [],
      "collapsed_sections": [
        "hzhj-UlgpEXC",
        "QZBAjImOpmYN",
        "C3acn2Q1uEL_",
        "TyWgUE-klGzp",
        "UtsjtaaNonMY",
        "PcyxlamAy_ke",
        "i_hX4xtI1tYN",
        "93o2QMkuH9tF"
      ],
      "authorship_tag": "ABX9TyMgs9V6sYrOlXM/7Be3Zblr",
      "include_colab_link": true
    },
    "kernelspec": {
      "name": "python3",
      "display_name": "Python 3"
    },
    "language_info": {
      "name": "python"
    }
  },
  "cells": [
    {
      "cell_type": "markdown",
      "metadata": {
        "id": "view-in-github",
        "colab_type": "text"
      },
      "source": [
        "<a href=\"https://colab.research.google.com/github/FortemDave/OOP-CS207-Uma-Mam-Mr.-Shankar-Biradar/blob/main/Pratham_20bcs102_OOPTask2.ipynb\" target=\"_parent\"><img src=\"https://colab.research.google.com/assets/colab-badge.svg\" alt=\"Open In Colab\"/></a>"
      ]
    },
    {
      "cell_type": "markdown",
      "metadata": {
        "id": "hzhj-UlgpEXC"
      },
      "source": [
        "# Question - 1"
      ]
    },
    {
      "cell_type": "code",
      "metadata": {
        "colab": {
          "base_uri": "https://localhost:8080/"
        },
        "id": "HA0XKDRZpIgU",
        "outputId": "bb74d354-5d32-4b15-c6e9-2c2cc851b8be"
      },
      "source": [
        "class Circle:\n",
        "\n",
        "    \n",
        "    def __init__(self,radius):\n",
        "        self.__radius = radius\n",
        "\n",
        "    def area(self):\n",
        "        print(f\"Area = {3.141*(self.__radius**2)}\")\n",
        "        return 3.141*(self.__radius**2)\n",
        "\n",
        "    def perimeter(self):\n",
        "        print(f\"Perimeter = {2*3.141*self.__radius}\")\n",
        "        return 2*3.141*self.__radius\n",
        "        #RETURNED in case it is required by the user\n",
        "\n",
        "small = Circle(43)\n",
        "small.area()\n",
        "small.perimeter()\n",
        "\n",
        "temp_variable = Circle(11).perimeter()\n",
        "print(temp_variable)"
      ],
      "execution_count": null,
      "outputs": [
        {
          "output_type": "stream",
          "name": "stdout",
          "text": [
            "Area = 5807.709\n",
            "Perimeter = 270.126\n",
            "Perimeter = 69.102\n",
            "69.102\n"
          ]
        }
      ]
    },
    {
      "cell_type": "markdown",
      "metadata": {
        "id": "QZBAjImOpmYN"
      },
      "source": [
        "# Question - 2"
      ]
    },
    {
      "cell_type": "code",
      "metadata": {
        "colab": {
          "base_uri": "https://localhost:8080/"
        },
        "id": "NtRtqsb0pnW0",
        "outputId": "59339fa8-5d10-4a84-bff2-19d63435120c"
      },
      "source": [
        "class TeachFacult:\n",
        "    \n",
        "    def __init__(self,name,emp_id,branch,salary):\n",
        "        self.name = name\n",
        "        self.emp_id = emp_id\n",
        "        self.branch = branch\n",
        "        self.__salary = salary\n",
        "\n",
        "    def print_details(self):\n",
        "        print(f\"NAME:   {self.name}.\")\n",
        "        print(f\"ID:     {self.emp_id}.\")\n",
        "        print(f\"BRANCH: {self.branch}.\")\n",
        "        print(f\"SALARY: {self.__salary}.\")\n",
        "        print(\"-------------------------\")\n",
        "\n",
        "\n",
        "data_list = []\n",
        "\n",
        "for index in range(0,5):\n",
        "    print(f\"Enter the details of {index+1} Professor:\")\n",
        "    name = input(\"Name: \")\n",
        "    emp_id = int(input(\"EMPLOYEE_ID: \"))\n",
        "    brnch = input(\"BRANCH: \")\n",
        "    slry = int(input(\"INCOME(INR): \"))\n",
        "\n",
        "    data_list.append(TeachFacult(name,emp_id,brnch,slry))\n",
        "\n",
        "\n",
        "print(\"PROFESSOR DETAILS\")\n",
        "for i in data_list: i.print_details() "
      ],
      "execution_count": 4,
      "outputs": [
        {
          "output_type": "stream",
          "name": "stdout",
          "text": [
            "Enter the details of 1 Professor:\n",
            "Name: Rahan Sujhan\n",
            "EMPLOYEE_ID: 435\n",
            "BRANCH: CSE\n",
            "INCOME(INR): 1200000\n",
            "Enter the details of 2 Professor:\n",
            "Name: Satish Sahan\n",
            "EMPLOYEE_ID: 938\n",
            "BRANCH: ECE\n",
            "INCOME(INR): 1000000\n",
            "Enter the details of 3 Professor:\n",
            "Name: Jagdish Jagan\n",
            "EMPLOYEE_ID: 436\n",
            "BRANCH: DSAI\n",
            "INCOME(INR): 800000\n",
            "Enter the details of 4 Professor:\n",
            "Name: Rahul Prentamsetty\n",
            "EMPLOYEE_ID: 420\n",
            "BRANCH: MECH\n",
            "INCOME(INR): 1400000\n",
            "Enter the details of 5 Professor:\n",
            "Name: Natish Hamish\n",
            "EMPLOYEE_ID: 482\n",
            "BRANCH: DSAI\n",
            "INCOME(INR): 900000\n",
            "PROFESSOR DETAILS\n",
            "NAME:   Rahan Sujhan.\n",
            "ID:     435.\n",
            "BRANCH: CSE.\n",
            "SALARY: 1200000.\n",
            "-------------------------\n",
            "NAME:   Satish Sahan.\n",
            "ID:     938.\n",
            "BRANCH: ECE.\n",
            "SALARY: 1000000.\n",
            "-------------------------\n",
            "NAME:   Jagdish Jagan.\n",
            "ID:     436.\n",
            "BRANCH: DSAI.\n",
            "SALARY: 800000.\n",
            "-------------------------\n",
            "NAME:   Rahul Prentamsetty.\n",
            "ID:     420.\n",
            "BRANCH: MECH.\n",
            "SALARY: 1400000.\n",
            "-------------------------\n",
            "NAME:   Natish Hamish.\n",
            "ID:     482.\n",
            "BRANCH: DSAI.\n",
            "SALARY: 900000.\n",
            "-------------------------\n"
          ]
        }
      ]
    },
    {
      "cell_type": "markdown",
      "metadata": {
        "id": "C3acn2Q1uEL_"
      },
      "source": [
        "# Question - 3"
      ]
    },
    {
      "cell_type": "code",
      "metadata": {
        "colab": {
          "base_uri": "https://localhost:8080/"
        },
        "id": "o_6C0_XZuGIy",
        "outputId": "30075d09-2c01-488c-8992-8db9b6a3e533"
      },
      "source": [
        "class BankingSys:\n",
        "\n",
        "    def __init__(self,number,holder,amout):\n",
        "        self.acc_num = number\n",
        "        self.holder_name = holder\n",
        "        self.__bank_balance = amout\n",
        "\n",
        "    def deposit(self,amount):\n",
        "        self.__bank_balance += amount\n",
        "        print(f\"Amount {amount} succesfully deposited.\")\n",
        "        print(f\"Updated Bank Balance: {self.__bank_balance}.\")\n",
        "\n",
        "    def withdraw(self,amount):\n",
        "        self.__bank_balance -= amount\n",
        "        print(f\"Amount {amount} has been succesfully withdraw.\")\n",
        "        print(f\"Updated Bank Balance: {self.__bank_balance}.\")\n",
        "\n",
        "    def check_balance(self):\n",
        "        print(f\"Your Current Balance: {self.__bank_balance}.\")\n",
        "\n",
        "    def acc_details(self):\n",
        "        print(f\"BANK NO. {self.acc_num}.\")\n",
        "        print(f\"ACCOUNT HOLDER NAME {self.holder_name}.\")\n",
        "        print(f\"BANK BALANCE {self.__bank_balance}.\")\n",
        "\n",
        "\n",
        "user_1 = BankingSys(4125,\"Rohit\",20000)\n",
        "user_1.deposit(500)\n",
        "user_1.withdraw(200)\n",
        "user_1.check_balance()\n",
        "user_1.acc_details()\n",
        "\n",
        "user_2 = BankingSys(4232,\"Ajan\",10000)\n",
        "user_2.deposit(1000)\n",
        "user_2.withdraw(5000)\n",
        "user_2.check_balance()\n",
        "user_1.acc_details()"
      ],
      "execution_count": null,
      "outputs": [
        {
          "output_type": "stream",
          "name": "stdout",
          "text": [
            "Amount 500 succesfully deposited.\n",
            "Updated Bank Balance: 20500.\n",
            "Amount 200 has been succesfully withdraw.\n",
            "Updated Bank Balance: 20300.\n",
            "Your Current Balance: 20300.\n",
            "BANK NO. 4125.\n",
            "ACCOUNT HOLDER NAME Rohit.\n",
            "BANK BALANCE 20300.\n",
            "Amount 1000 succesfully deposited.\n",
            "Updated Bank Balance: 11000.\n",
            "Amount 5000 has been succesfully withdraw.\n",
            "Updated Bank Balance: 6000.\n",
            "Your Current Balance: 6000.\n",
            "BANK NO. 4125.\n",
            "ACCOUNT HOLDER NAME Rohit.\n",
            "BANK BALANCE 20300.\n"
          ]
        }
      ]
    },
    {
      "cell_type": "markdown",
      "metadata": {
        "id": "TyWgUE-klGzp"
      },
      "source": [
        "# Question - 4"
      ]
    },
    {
      "cell_type": "code",
      "metadata": {
        "colab": {
          "base_uri": "https://localhost:8080/"
        },
        "id": "cs7K0v3llLqc",
        "outputId": "af0063a4-8d15-4566-f2a7-c6da8386333c"
      },
      "source": [
        "class StudDetalis:\n",
        "\n",
        "    def __init__(self,name,roll_no,mark_1=0,mark_2=0,mark_3=0):\n",
        "        self.name = name\n",
        "        if len(roll_no) != 8:\n",
        "            print(\"ERROR(USN) : INVALID ROLL NO FORMAT- USE 20BCSXXX or 20bcsXXX.\")\n",
        "            self.usn = \"20bcs___\"\n",
        "        else:\n",
        "            self.usn = roll_no\n",
        "        self.marks_list = []\n",
        "        self.marks_list.append(mark_1)\n",
        "        self.marks_list.append(mark_2)\n",
        "        self.marks_list.append(mark_3)\n",
        "\n",
        "    def updaterollno(self):\n",
        "        roll_no = input(f\"Updated Roll No for '{self.name} :\")\n",
        "        if len(roll_no) != 8:\n",
        "            print(f\"ERROR(USN) : INVALID ROLL NO FORMAT '{roll_no}'- USE 20BCSXXX or 20bcsXXX.\")\n",
        "        else:\n",
        "            self.usn = roll_no\n",
        "            print(\"Roll No. UPDATED successfully.\")\n",
        "\n",
        "    def addMarks(self):\n",
        "        val = int(input(\"Enter Marks: \"))\n",
        "        self.marks_list.append(val)\n",
        "\n",
        "    def display(self):\n",
        "        print(\"STUDENT DETAILS: \")\n",
        "        print(f\"Name: {self.name}\")\n",
        "        print(f\"USN: {self.usn}\")\n",
        "        for i in self.marks_list:\n",
        "            print(f\"Subject {i+1} Marks: {i}\")\n",
        "\n",
        "student1 = StudDetalis(\"Annamaneni Rohit\",\"20bcs19\",90,95,87)\n",
        "student1.addMarks()\n",
        "student1.updaterollno()\n",
        "student2 = StudDetalis(\"Rahul Pentamsetty\",\"20bcs106\",87,76,92)\n",
        "\n",
        "student1.display()\n",
        "student2.display()"
      ],
      "execution_count": null,
      "outputs": [
        {
          "output_type": "stream",
          "name": "stdout",
          "text": [
            "ERROR(USN) : INVALID ROLL NO FORMAT- USE 20BCSXXX or 20bcsXXX.\n",
            "Enter Marks: 95\n",
            "Updated Roll No for 'Annamaneni Rohit :20bcs19\n",
            "ERROR(USN) : INVALID ROLL NO FORMAT '20bcs19'- USE 20BCSXXX or 20bcsXXX.\n",
            "STUDENT DETAILS: \n",
            "Name: Annamaneni Rohit\n",
            "USN: 20bcs___\n",
            "Subject 91 Marks: 90\n",
            "Subject 96 Marks: 95\n",
            "Subject 88 Marks: 87\n",
            "Subject 96 Marks: 95\n",
            "STUDENT DETAILS: \n",
            "Name: Rahul Pentamsetty\n",
            "USN: 20bcs106\n",
            "Subject 88 Marks: 87\n",
            "Subject 77 Marks: 76\n",
            "Subject 93 Marks: 92\n"
          ]
        }
      ]
    },
    {
      "cell_type": "markdown",
      "metadata": {
        "id": "UtsjtaaNonMY"
      },
      "source": [
        "# Question - 5"
      ]
    },
    {
      "cell_type": "code",
      "metadata": {
        "colab": {
          "base_uri": "https://localhost:8080/"
        },
        "id": "YTL4J5cEookZ",
        "outputId": "2815ae9f-e11e-4040-d338-a9350ae105ea"
      },
      "source": [
        "class HospDB:\n",
        "    paitents = []\n",
        "    ventilated_paitents = []\n",
        "    gen_ward_paitents = []\n",
        "\n",
        "    def __init__(self):\n",
        "        self.name = None\n",
        "        self.doi = None\n",
        "        self.symptom_list = []\n",
        "        self.dod = None\n",
        "        self.oxylevel = None\n",
        "        self.oxysupport = 0\n",
        "        self.paitent_info()\n",
        "\n",
        "    def paitent_info(self):\n",
        "        self.name = input(\"Name: \")\n",
        "        self.doi = input(\"Date of Admission: \")\n",
        "        total_symp = int(input(\"Total Symptoms Recorded: \"))\n",
        "\n",
        "        for i in range(0,total_symp):\n",
        "            self.symptom_list.append(input(f\"Symptopm {i+1}: \"))\n",
        "        \n",
        "        self.oxylevel = int(input(\"Oxygen Levels (in %): \"))\n",
        "\n",
        "        if self.oxylevel < 90:\n",
        "            print(\"Oxygen Levels are Under Minimal Values.\")\n",
        "            print(\"Placing Paitent on a Ventilator.\")\n",
        "            self.oxysupport = 1\n",
        "            self.ventilated_paitents.append(self.name)\n",
        "        else:\n",
        "            self.gen_ward_paitents.append(self.name)\n",
        "\n",
        "        self.paitents.append(self.name)\n",
        "        self.dod = input(\"Date of Discharge: \")\n",
        "\n",
        "    def severity(self):\n",
        "        if self.oxylevel < 90:\n",
        "            print(\"Paitent Still On a Ventilator\")\n",
        "        else:\n",
        "            print(\"Paitent in General Ward.\")\n",
        "\n",
        "    def paitentsOnSupport(self):\n",
        "        print(f\"Total Paitents on Support are: {len(self.ventilated_paitents)}\")\n",
        "        print(\"They are: \")\n",
        "        for i in self.ventilated_paitents:\n",
        "            print(i)\n",
        "\n",
        "    def totalPaitents(self):\n",
        "        print(f\"Total Paitents are: {len(self.paitents)}\")\n",
        "        print(\"They are: \")\n",
        "        for i in self.paitents:\n",
        "            print(i)\n",
        "\n",
        "    def genWard(self):\n",
        "        print(f\"Total Paitents in the General Ward are are: {len(self.gen_ward_paitents)}\")\n",
        "        print(\"They are: \")\n",
        "        for i in self.gen_ward_paitents:\n",
        "            print(i)\n",
        "\n",
        "HospDB.genWard = classmethod(HospDB.genWard)\n",
        "HospDB.paitentsOnSupport = classmethod(HospDB.paitentsOnSupport)\n",
        "HospDB.totalPaitents = classmethod(HospDB.totalPaitents)\n",
        "\n",
        "paitent1 = HospDB()\n",
        "paitent2 = HospDB()\n",
        "paitent3 = HospDB()\n",
        "paitent4 = HospDB()\n",
        "paitent1.severity()\n",
        "paitent3.severity()\n",
        "\n",
        "HospDB.genWard()\n",
        "HospDB.paitentsOnSupport()\n",
        "HospDB.totalPaitents()"
      ],
      "execution_count": null,
      "outputs": [
        {
          "output_type": "stream",
          "name": "stdout",
          "text": [
            "Name: Rakesh Goud\n",
            "Date of Admission: 19-3-2021\n",
            "Total Symptoms Recorded: 3\n",
            "Symptopm 1: Headaches\n",
            "Symptopm 2: Dizziness\n",
            "Symptopm 3: Coughing\n",
            "Oxygen Levels (in %): 93\n",
            "Date of Discharge: 19-4-2021\n",
            "Name: Sushil Singh\n",
            "Date of Admission: 21-6-2021\n",
            "Total Symptoms Recorded: 1\n",
            "Symptopm 1: Shortness of Breath\n",
            "Oxygen Levels (in %): 84\n",
            "Oxygen Levels are Under Minimal Values.\n",
            "Placing Paitent on a Ventilator.\n",
            "Date of Discharge: 19-8-2021\n",
            "Name: Majnish Rajan\n",
            "Date of Admission: 31-2-2021\n",
            "Total Symptoms Recorded: 2\n",
            "Symptopm 1: Lack of Strength\n",
            "Symptopm 2: Dizziness\n",
            "Oxygen Levels (in %): 88\n",
            "Oxygen Levels are Under Minimal Values.\n",
            "Placing Paitent on a Ventilator.\n",
            "Date of Discharge: 24-6-2021\n",
            "Name: Janith Soshal\n",
            "Date of Admission: 12-4-2021\n",
            "Total Symptoms Recorded: 1\n",
            "Symptopm 1: Asthama\n",
            "Oxygen Levels (in %): 79\n",
            "Oxygen Levels are Under Minimal Values.\n",
            "Placing Paitent on a Ventilator.\n",
            "Date of Discharge: 12-6-2022\n",
            "Paitent in General Ward.\n",
            "Paitent Still On a Ventilator\n",
            "Total Paitents in the General Ward are are: 1\n",
            "They are: \n",
            "Rakesh Goud\n",
            "Total Paitents on Support are: 3\n",
            "They are: \n",
            "Sushil Singh\n",
            "Majnish Rajan\n",
            "Janith Soshal\n",
            "Total Paitents are: 4\n",
            "They are: \n",
            "Rakesh Goud\n",
            "Sushil Singh\n",
            "Majnish Rajan\n",
            "Janith Soshal\n"
          ]
        }
      ]
    },
    {
      "cell_type": "markdown",
      "metadata": {
        "id": "PcyxlamAy_ke"
      },
      "source": [
        "# Question - 6"
      ]
    },
    {
      "cell_type": "code",
      "metadata": {
        "colab": {
          "base_uri": "https://localhost:8080/"
        },
        "id": "dIpig8k0zCLm",
        "outputId": "c43cbfee-f824-4f32-a486-615d25ad3014"
      },
      "source": [
        "class tym:\n",
        "\n",
        "    def __init__(self):\n",
        "        self.seconds = 0\n",
        "        self.minutes = 0\n",
        "        self.hours = 0\n",
        "        self.setTime()\n",
        "\n",
        "    def setTime(self):\n",
        "        secs = int(input(\"Seconds: \"))\n",
        "        if secs < 0 or secs > 60:\n",
        "            print(\"Invalid Input\")\n",
        "            self.seconds = None\n",
        "            return\n",
        "        else:\n",
        "            self.seconds =secs\n",
        "        \n",
        "        min = int(input(\"Minutes: \"))\n",
        "        if min < 0 or min > 60:\n",
        "            print(\"Invalid Input\")\n",
        "            self.minutes = None\n",
        "            return\n",
        "        else:\n",
        "            self.minutes = min\n",
        "        \n",
        "        hr = int(input(\"Hour [24 hr format]: \"))\n",
        "        if hr < 0 or hr > 24:\n",
        "            print(\"Invalid Input\")\n",
        "            self.hours = None\n",
        "            return\n",
        "        else:\n",
        "            self.hours = hr\n",
        "    \n",
        "    def tellTime(self):\n",
        "        if self.hours == None or self.minutes == None or self. seconds == None:\n",
        "            print(\"Try to Input again.\")\n",
        "        else:\n",
        "            print(f\"Time: {self.hours}:{self.minutes}:{self.seconds}\")\n",
        "\n",
        "time1 = tym()\n",
        "time1.tellTime()\n",
        "\n",
        "time2 = tym()\n",
        "time2.tellTime()"
      ],
      "execution_count": null,
      "outputs": [
        {
          "output_type": "stream",
          "name": "stdout",
          "text": [
            "Seconds: 12\n",
            "Minutes: 30\n",
            "Hour [24 hr format]: 6\n",
            "Time: 6:30:12\n",
            "Seconds: 55\n",
            "Minutes: 70\n",
            "Invalid Input\n",
            "Try to Input again.\n"
          ]
        }
      ]
    },
    {
      "cell_type": "markdown",
      "metadata": {
        "id": "i_hX4xtI1tYN"
      },
      "source": [
        "# Question - 7"
      ]
    },
    {
      "cell_type": "code",
      "metadata": {
        "id": "78xjROOr1vHW",
        "colab": {
          "base_uri": "https://localhost:8080/"
        },
        "outputId": "e27f26b1-3bc5-473c-dc61-012351d07c91"
      },
      "source": [
        "class studentDetails():\n",
        "\n",
        "    def __init__(self,name,age,roll_no):\n",
        "        self.name = name\n",
        "        self.age = age\n",
        "        self.roll_no = roll_no\n",
        "\n",
        "    def compare(self, studA, studB):\n",
        "        if studA.age == studB.age:\n",
        "            print(f\"{studA.name} and {studB.name} have the same age.\")\n",
        "        else:\n",
        "            print(f\"{studA.name} and {studB.name} do NOT have the same age.\")\n",
        "\n",
        "rahul = studentDetails(\"Rahul\",21,33)\n",
        "rohit = studentDetails(\"Rohit\",22,74)\n",
        "\n",
        "studentDetails.compare = classmethod(studentDetails.compare)\n",
        "studentDetails.compare(rahul,rohit)"
      ],
      "execution_count": null,
      "outputs": [
        {
          "output_type": "stream",
          "name": "stdout",
          "text": [
            "Rahul and Rohit do NOT have the same age.\n"
          ]
        }
      ]
    },
    {
      "cell_type": "markdown",
      "metadata": {
        "id": "0fXQ4GUk-hTF"
      },
      "source": [
        "# Question - 8"
      ]
    },
    {
      "cell_type": "code",
      "metadata": {
        "id": "4-oXdzsZ-i7N",
        "colab": {
          "base_uri": "https://localhost:8080/"
        },
        "outputId": "4f5deb37-5201-47a0-9c57-914d7f2e061d"
      },
      "source": [
        "class SudentDetails:\n",
        "    semester = '3rd Semester'\n",
        "    institute = \"IIIT Dharwad\"\n",
        "\n",
        "    def __init__(self,name,roll_no):\n",
        "        self.name = name\n",
        "        self.usn = roll_no\n",
        "\n",
        "    def printinstdet(self):\n",
        "        print(self.name)\n",
        "        print(self.usn)\n",
        "\n",
        "    @classmethod\n",
        "    def printclassdet(cls):\n",
        "        print(cls.semester)\n",
        "        print(cls.institute)\n",
        "    \n",
        "    @staticmethod\n",
        "    def printstatdet():\n",
        "        print(\"This Class uses instance and class variables to print then using\")\n",
        "        print(\"the said methods respectively. Static method is also used here.\")\n",
        "\n",
        "rahul = SudentDetails(\"Rahul\",\"20BCS102\")\n",
        "rahul.printinstdet()\n",
        "\n",
        "SudentDetails.printclassdet()\n",
        "SudentDetails.printstatdet()"
      ],
      "execution_count": 3,
      "outputs": [
        {
          "output_type": "stream",
          "name": "stdout",
          "text": [
            "Rahul\n",
            "20BCS102\n",
            "3rd Semester\n",
            "IIIT Dharwad\n",
            "This Class uses instance and class variables to print then using\n",
            "the said methods respectively. Static method is also used here.\n"
          ]
        }
      ]
    },
    {
      "cell_type": "markdown",
      "metadata": {
        "id": "93o2QMkuH9tF"
      },
      "source": [
        "# Question - 9"
      ]
    },
    {
      "cell_type": "code",
      "metadata": {
        "id": "UL3als2aH_D_",
        "colab": {
          "base_uri": "https://localhost:8080/"
        },
        "outputId": "1b826947-f37d-45c3-ee2a-2568e99f9dc2"
      },
      "source": [
        "class Student:\n",
        "\n",
        "    def __init__(self,name,roll_no,sem,cpu,ram,hard_disk,display):\n",
        "        self.name = name\n",
        "        self.roll_no = roll_no\n",
        "        self.sem = sem\n",
        "        self.my_pc = self.Laptop(cpu,ram,hard_disk,display)\n",
        "\n",
        "    def StudentInfo(self):\n",
        "        print(\"Student Details: \")\n",
        "        print(f\"Name: {self.name}\")\n",
        "        print(f\"Roll No : {self.roll_no}\")\n",
        "        print(f\"Semester: {self.sem}\")\n",
        "        self.my_pc.laptop_info()\n",
        "\n",
        "    class Laptop:\n",
        "\n",
        "        def __init__(self,cpu,ram,hard_disk,display):\n",
        "            self.cpu = cpu\n",
        "            self.ram = ram\n",
        "            self. hard_disk = hard_disk\n",
        "            self.display = display\n",
        "\n",
        "        def laptop_info(self):\n",
        "            print(\"Laptop Details :-\")\n",
        "            print(f\"CPU : {self.cpu}\")\n",
        "            print(f\"Ram [GB] : {self.ram}\")\n",
        "            print(f\"Storage [GB] : {self.hard_disk}\")\n",
        "            print(f\"Display Resolution : {self.display}\")\n",
        "\n",
        "stud = Student(\"Rakshit\",66,3,\"4500U\",8,512,\"1920x1080\")\n",
        "stud.StudentInfo()"
      ],
      "execution_count": null,
      "outputs": [
        {
          "output_type": "stream",
          "name": "stdout",
          "text": [
            "Student Details: \n",
            "Name: Rakshit\n",
            "Roll No : 66\n",
            "Semester: 3\n",
            "Laptop Details :-\n",
            "CPU : 4500U\n",
            "Ram [GB] : 8\n",
            "Storage [GB] : 512\n",
            "Display Resolution : 1920x1080\n"
          ]
        }
      ]
    }
  ]
}