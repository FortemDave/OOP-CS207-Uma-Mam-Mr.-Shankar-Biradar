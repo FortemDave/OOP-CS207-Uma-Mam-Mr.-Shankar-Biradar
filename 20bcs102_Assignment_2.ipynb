{
 "cells": [
  {
   "cell_type": "code",
   "execution_count": null,
   "metadata": {},
   "outputs": [],
   "source": [
    "#Assignment 2- 20bcs102   PRATHAM HARSHVARDHAN DAVE-CSE"
   ]
  },
  {
   "cell_type": "code",
   "execution_count": null,
   "metadata": {},
   "outputs": [],
   "source": [
    "status = \"Active\" #Assigning a variable with a value\n",
    "\n",
    "status"
   ]
  },
  {
   "cell_type": "code",
   "execution_count": null,
   "metadata": {},
   "outputs": [],
   "source": [
    "mult = 5 * 5 * 4 * \\\n",
    "        6 * 9 * \\\n",
    "            1\n",
    "mult"
   ]
  },
  {
   "cell_type": "code",
   "execution_count": null,
   "metadata": {},
   "outputs": [],
   "source": [
    "student_id_set = {32, 22, 15}\n",
    "\n",
    "student_id_set"
   ]
  },
  {
   "cell_type": "code",
   "execution_count": null,
   "metadata": {},
   "outputs": [],
   "source": [
    "values = (4 , 14,  11,\n",
    "            23, 54, 65\n",
    "             ,91)\n",
    "\n",
    "values"
   ]
  },
  {
   "cell_type": "code",
   "execution_count": null,
   "metadata": {},
   "outputs": [],
   "source": [
    "for ctr in range(0,10):\n",
    "    if ctr % 2 == 0:\n",
    "        print(str(ctr) + \" is an Even Number\")"
   ]
  },
  {
   "cell_type": "code",
   "execution_count": null,
   "metadata": {},
   "outputs": [],
   "source": [
    "#This is a single line comment, used to describe parts of the code"
   ]
  },
  {
   "cell_type": "code",
   "execution_count": null,
   "metadata": {},
   "outputs": [],
   "source": [
    "\"\"\"This is a multiline comment, which helps extend the description to a longer\n",
    "    multi-line length if needed.\"\"\""
   ]
  },
  {
   "cell_type": "code",
   "execution_count": null,
   "metadata": {},
   "outputs": [],
   "source": [
    "def arbitraryfunc():\n",
    "    \"\"\"This function is a placeholder.\"\"\"\n",
    "    print(\"_\")\n",
    "    \n",
    "(arbitraryfunc.__doc__)"
   ]
  },
  {
   "cell_type": "code",
   "execution_count": null,
   "metadata": {},
   "outputs": [],
   "source": [
    "val_int = 53\n",
    "val_str = \"Hello World!\"\n",
    "val_bool = True\n",
    "\n",
    "val_int,val_str,val_bool"
   ]
  },
  {
   "cell_type": "code",
   "execution_count": null,
   "metadata": {},
   "outputs": [],
   "source": [
    "studentA,studentB = 43,44\n",
    "\n",
    "studentA,studentB"
   ]
  },
  {
   "cell_type": "code",
   "execution_count": null,
   "metadata": {},
   "outputs": [],
   "source": [
    "val_bin = 0b11111111\n",
    "val_oct = 0o771\n",
    "val_hex = 0x2FF\n",
    "\n",
    "val_bin,val_hex,val_oct  #Shows as decimal values"
   ]
  },
  {
   "cell_type": "code",
   "execution_count": null,
   "metadata": {},
   "outputs": [],
   "source": []
  },
  {
   "cell_type": "code",
   "execution_count": null,
   "metadata": {},
   "outputs": [],
   "source": [
    "speed_light_apprx = 3e8\n",
    "cmplx_num = 5.3j\n",
    "\n",
    "speed_light_apprx,cmplx_num"
   ]
  },
  {
   "cell_type": "code",
   "execution_count": null,
   "metadata": {},
   "outputs": [],
   "source": [
    "str_statement = \"This is a file made with Jupyter Notebook.\"\n",
    "char_val = \"x\"\n",
    "triple_quote_comment = \"\"\"This is a Course for CSE Students.\"\"\"\n",
    "raw_str = r\"absolute \\t string\"\n",
    "\n",
    "print(str_statement)\n",
    "print(char_val)\n",
    "print(triple_quote_comment)\n",
    "print(raw_str)\n"
   ]
  },
  {
   "cell_type": "code",
   "execution_count": null,
   "metadata": {},
   "outputs": [],
   "source": [
    "is_happy = True\n",
    "\n",
    "if is_happy == True:\n",
    "    print(\"Was happy\")\n",
    "    is_happy = False\n",
    "    \n",
    "is_happy"
   ]
  },
  {
   "cell_type": "code",
   "execution_count": null,
   "metadata": {},
   "outputs": [],
   "source": [
    "placehold_val = None\n",
    "\n",
    "if placehold_val == \"Something\":\n",
    "    #Do something\n",
    "    print(\"Do something\")\n",
    "else:\n",
    "    placehold_val = \"Useful Instruction\"\n",
    "    \n",
    "placehold_val"
   ]
  },
  {
   "cell_type": "code",
   "execution_count": null,
   "metadata": {},
   "outputs": [],
   "source": [
    "#LITERAL COLLECTIONS \n",
    "\n",
    "limst = [\"Exhaust\",\"Hood\",\"HeatPipe\",\"Coolant\"]\n",
    "numbz = (23,65,32,23,11,58)\n",
    "dict_vals = {\"Age\":19,\"Height\":182,\"Weight\":75}\n",
    "semt = {'z','x','c','v','b','n','m'}\n",
    "\n",
    "print(limst)\n",
    "print(numbz)\n",
    "print(dict_vals)\n",
    "print(semt)"
   ]
  },
  {
   "cell_type": "code",
   "execution_count": null,
   "metadata": {},
   "outputs": [],
   "source": [
    "identifyA = \"a\"\n",
    "identifyB = \"b\"\n",
    "\n",
    "print(id(identifyA))\n",
    "print(id(identifyB))\n",
    "\n",
    "identifyA = \"z\"\n",
    "\n",
    "\n",
    "#ID changes on changing the value\n",
    "print(id(identifyA))"
   ]
  },
  {
   "cell_type": "code",
   "execution_count": null,
   "metadata": {},
   "outputs": [],
   "source": [
    "#Following Basic Naiming conventions of variables, \n",
    "#A name can be written in a lot of ways\n",
    "\n",
    "va1ue=1\n",
    "vaLue=2\n",
    "VALue=3\n",
    "L41u8=4\n",
    "_v_AL_ue=5\n",
    "______v=6\n",
    "\n",
    "#Case Sensitive\n",
    "\n",
    "print(va1ue,vaLue,VALue,L41u8,_v_AL_ue,______v)"
   ]
  },
  {
   "cell_type": "code",
   "execution_count": null,
   "metadata": {},
   "outputs": [],
   "source": [
    "glob_scope_val = 55\n",
    "\n",
    "def do_ntng():\n",
    "    glob_scope_val = 40\n",
    "    print(glob_scope_val)\n",
    "    \n",
    "do_ntng()\n",
    "print(glob_scope_val)"
   ]
  },
  {
   "cell_type": "code",
   "execution_count": null,
   "metadata": {},
   "outputs": [],
   "source": [
    " value = 444\n",
    "\n",
    "def addn(addr):\n",
    "    global value\n",
    "    value += addr\n",
    "    \n",
    "addn(556)\n",
    "print(value)"
   ]
  },
  {
   "cell_type": "code",
   "execution_count": null,
   "metadata": {},
   "outputs": [],
   "source": [
    "str_modify = \"This string will be modified using inbuilt python functions!\"\n",
    "\n",
    "s1 = str_modify[::-1]\n",
    "s2 = str_modify[:5]\n",
    "s3 = str_modify[5::2]\n",
    "s4 = str_modify[-1:5:-3]\n",
    "\n",
    "print(s1)\n",
    "print(s2)\n",
    "print(s3)\n",
    "print(s4)"
   ]
  },
  {
   "cell_type": "code",
   "execution_count": null,
   "metadata": {},
   "outputs": [],
   "source": [
    "str_change = \"This string will be saved in various forms using the string function. -_-\"\n",
    "\n",
    "slice_s1 = slice(0,9,-1)\n",
    "\n",
    "print(str_change[slice_s1])"
   ]
  },
  {
   "cell_type": "code",
   "execution_count": null,
   "metadata": {},
   "outputs": [],
   "source": [
    "# problem 2: Slicing of strings using function slice\n",
    "py_string = 'LearningPythonFromBook'\n",
    "\n",
    "# start = -1, stop = -4, step = -1\n",
    "# includes  indices -1, -2 and -3\n",
    "slice_object1 = slice(-1, -10, -1)\n",
    "slice_object2 = slice(15, 5, -1)\n",
    "slice_object3 = slice(1, 6, 1)\n",
    "\n",
    "print(py_string[slice_object1],\"\\n\", py_string[slice_object2],\"\\n\",py_string[slice_object3])   "
   ]
  },
  {
   "cell_type": "code",
   "execution_count": null,
   "metadata": {},
   "outputs": [],
   "source": [
    "str_change = \"This string will be saved in various forms using the string function. -_- \"\n",
    "\n",
    "slice_s1 = slice(0,9,2)\n",
    "slice_s2 = slice(0,-1,5)\n",
    "slice_s3 = slice(-4,-1,1)\n",
    "slice_s4 = slice(0,-1,2)\n",
    "print(str_change[slice_s1])\n",
    "print(str_change[slice_s2])\n",
    "print(str_change[slice_s3])\n",
    "print(str_change[slice_s4])\n"
   ]
  },
  {
   "cell_type": "code",
   "execution_count": null,
   "metadata": {},
   "outputs": [],
   "source": [
    "limst_vals = [\"Hello\",\"World\",\"Filled\",\"with\",\"mortals!\",\":)\"]\n",
    "slice_s1 = slice(0,6,4)\n",
    "slice_s2 = slice(0,6,5)\n",
    "slice_s3 = slice(2)\n",
    "print(limst_vals[slice_s1])\n",
    "print(limst_vals[slice_s2])\n",
    "print(limst_vals[slice_s3])"
   ]
  },
  {
   "cell_type": "code",
   "execution_count": null,
   "metadata": {},
   "outputs": [],
   "source": [
    "tuple_test = (54, \"Fork\" , 4.45)\n",
    "\n",
    "print(tuple_test[::2])\n",
    "print(tuple_test*2)"
   ]
  },
  {
   "cell_type": "code",
   "execution_count": null,
   "metadata": {},
   "outputs": [],
   "source": [
    "dict_personal = {\"1\":\"Hand\",\"2\":\"Legs\",\"3\":\"Pancreas\",\"4\":\"Jason\"}\n",
    "print(dict_personal[\"4\"])"
   ]
  },
  {
   "cell_type": "code",
   "execution_count": null,
   "metadata": {},
   "outputs": [],
   "source": [
    "string_speak = \"Hey!\"\n",
    "\n",
    "print(string_speak[1])"
   ]
  },
  {
   "cell_type": "code",
   "execution_count": null,
   "metadata": {},
   "outputs": [],
   "source": [
    "test_list = [1,2,3,2,1,4,6,5,5]\n",
    "test_set = set(test_list)\n",
    "\n",
    "print(\"Sets have unique values\")\n",
    "#Values Can Be Appended\n",
    "#Contains unique values without any index\n",
    "test_set.add(7)\n",
    "print(test_set)"
   ]
  },
  {
   "cell_type": "code",
   "execution_count": null,
   "metadata": {},
   "outputs": [],
   "source": [
    "#Type Conversion\n",
    "\n",
    "int_something = 34234\n",
    "float_something = 42345.3434\n",
    "add_type_check = int_something + float_something\n",
    "\n",
    "print(add_type_check, type(add_type_check))\n",
    "#implicitly converts it to float"
   ]
  },
  {
   "cell_type": "code",
   "execution_count": null,
   "metadata": {},
   "outputs": [],
   "source": [
    "#Cannot Concatenate Different Data Types which do not support implicit conversion\n",
    "#Eg. Int + string, Float + String etc.\n",
    "\n",
    "#The following code errors\n",
    "\"\"\"\n",
    "val_a = 4343\n",
    "val_b = \"3434\"\n",
    "print(val_a + val_b)\n",
    "\"\"\"\n"
   ]
  },
  {
   "cell_type": "code",
   "execution_count": null,
   "metadata": {},
   "outputs": [],
   "source": [
    "#we can handle the above situation by explicitly converting string to int\n",
    "\n",
    "val_a = 4343\n",
    "val_b = \"3434\"\n",
    "print(val_a + int(val_b)) #Mathematical Addition\n",
    "#or\n",
    "print(str(val_a) + val_b) #string concatenation"
   ]
  },
  {
   "cell_type": "code",
   "execution_count": null,
   "metadata": {},
   "outputs": [],
   "source": [
    "a = 5\n",
    "a **= 2\n",
    "print(a)"
   ]
  },
  {
   "cell_type": "code",
   "execution_count": null,
   "metadata": {},
   "outputs": [],
   "source": [
    "numerator = 3423\n",
    "denomenator = 334\n",
    "\n",
    "print(numerator/denomenator)\n",
    "print(numerator+denomenator)\n",
    "print(numerator%denomenator)\n",
    "print(numerator-denomenator)\n",
    "print(numerator//denomenator)\n",
    "print(numerator*denomenator)\n",
    "print(numerator**2) #power denomenator is too large"
   ]
  },
  {
   "cell_type": "code",
   "execution_count": null,
   "metadata": {},
   "outputs": [],
   "source": [
    "unique_num_x = 4\n",
    "unique_num_y = 5\n",
    "\n",
    "if unique_num_x>unique_num_y:\n",
    "    print(\"If condition\")\n",
    "else:\n",
    "    print(\"Fixing Value\")\n",
    "    while(unique_num_x>unique_num_y):\n",
    "        unique_num_y += 1\n"
   ]
  },
  {
   "cell_type": "code",
   "execution_count": null,
   "metadata": {},
   "outputs": [],
   "source": [
    "bit_x = 0b11110000\n",
    "bit_y = 0b00011111\n",
    "\n",
    "print(bit_x,bit_y)\n",
    "print(bit_x & bit_y)\n",
    "print(bit_x ^ bit_y)\n",
    "print(bit_y << 4)\n",
    "print(bit_x >> 2)\n"
   ]
  },
  {
   "cell_type": "code",
   "execution_count": null,
   "metadata": {},
   "outputs": [],
   "source": [
    "h_a = 32\n",
    "h_b = 33\n",
    "print(h_a is not h_b)\n",
    "\n",
    "h_b = h_b & h_a\n",
    "print(h_b)\n",
    "print(h_a is h_b)\n"
   ]
  },
  {
   "cell_type": "code",
   "execution_count": null,
   "metadata": {},
   "outputs": [],
   "source": [
    "check_list_vals = {1,4,645,123,534,7245}\n",
    "if (4 in check_list_vals):\n",
    "    print(\"Value exists!\")"
   ]
  },
  {
   "cell_type": "code",
   "execution_count": null,
   "metadata": {},
   "outputs": [],
   "source": [
    "user_id = input(\"Enter ID for Verification: \")\n",
    "\n",
    "def str_sum(usr_id):\n",
    "    sum_chars = 0\n",
    "    val = user_id\n",
    "    for char_val in usr_id:\n",
    "#         print(sum_chars)\n",
    "        sum_chars += int(char_val)\n",
    "    return sum_chars\n",
    "\n",
    "if len(user_id) == 5:\n",
    "    if (str_sum(user_id) % 2 == 0):\n",
    "        print(\"You have Local Access\")\n",
    "    elif(str_sum(user_id) % 7 == 2):\n",
    "        print(\"You have Admin Access\")\n",
    "    else:\n",
    "        print(\"You have Level 1 Clearance for Educational Purposes.\")\n",
    "else:\n",
    "    print(\"Access Denied.\")\n",
    "    print(\"Reason: Invalid ID Entered\")"
   ]
  },
  {
   "cell_type": "code",
   "execution_count": 12,
   "metadata": {},
   "outputs": [
    {
     "name": "stdout",
     "output_type": "stream",
     "text": [
      "Enter Refining Loops: 45\n",
      "Enter Value to be Refined: 2345234\n",
      "7.859092727291771e-42\n"
     ]
    }
   ],
   "source": [
    "loops = int(input(\"Enter Refining Loops: \"))\n",
    "value = int(input(\"Enter Value to be Refined: \"))\n",
    "while loops > 0:\n",
    "    loops -= 1\n",
    "    value = (value * 2) / 22.7\n",
    "    \n",
    "    \n",
    "print(value)"
   ]
  },
  {
   "cell_type": "code",
   "execution_count": 14,
   "metadata": {},
   "outputs": [],
   "source": [
    "#ASSIGNMENT 2 COMPLETED ON 25-8-2021 19:42:11"
   ]
  }
 ],
 "metadata": {
  "kernelspec": {
   "display_name": "Python 3",
   "language": "python",
   "name": "python3"
  },
  "language_info": {
   "codemirror_mode": {
    "name": "ipython",
    "version": 3
   },
   "file_extension": ".py",
   "mimetype": "text/x-python",
   "name": "python",
   "nbconvert_exporter": "python",
   "pygments_lexer": "ipython3",
   "version": "3.8.5"
  }
 },
 "nbformat": 4,
 "nbformat_minor": 4
}
