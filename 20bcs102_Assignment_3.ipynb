{
  "nbformat": 4,
  "nbformat_minor": 0,
  "metadata": {
    "colab": {
      "name": "20bcs102_Assignment_3.ipynb",
      "provenance": [],
      "collapsed_sections": [
        "1wfqwW6oiKxd"
      ],
      "authorship_tag": "ABX9TyMCiG3I4z4HMFktwLp1wo44",
      "include_colab_link": true
    },
    "kernelspec": {
      "name": "python3",
      "display_name": "Python 3"
    },
    "language_info": {
      "name": "python"
    }
  },
  "cells": [
    {
      "cell_type": "markdown",
      "metadata": {
        "id": "view-in-github",
        "colab_type": "text"
      },
      "source": [
        "<a href=\"https://colab.research.google.com/github/FortemDave/OOP-CS207-Uma-Mam-Mr.-Shankar-Biradar/blob/main/20bcs102_Assignment_3.ipynb\" target=\"_parent\"><img src=\"https://colab.research.google.com/assets/colab-badge.svg\" alt=\"Open In Colab\"/></a>"
      ]
    },
    {
      "cell_type": "markdown",
      "metadata": {
        "id": "1wfqwW6oiKxd"
      },
      "source": [
        "# Encapsulation: Public Variables"
      ]
    },
    {
      "cell_type": "code",
      "metadata": {
        "id": "JZu0nYOLigWh"
      },
      "source": [
        "class Student:\n",
        "    \n",
        "    def __init__(self,name,sch_class,age):\n",
        "        self.name = name\n",
        "        self.sch_class = sch_class\n",
        "        self.age = age\n",
        "\n",
        "    def print_stud_details(self):\n",
        "        print(f\"Student {self.name}'s Age is {self.age}.\")\n",
        "        print(f\"He studies in class {self.sch_class}.\")\n",
        "\n",
        "    def update_age(self,val):\n",
        "        self.age += 1\n",
        "        print(f\"{self.name}'s age is now {self.age}\")\n",
        "\n",
        "    def update_class(self,val):\n",
        "        self.sch_class += 1\n",
        "        print(f\"{self.name}'s class is now {self.sch_class}\")\n"
      ],
      "execution_count": 4,
      "outputs": []
    },
    {
      "cell_type": "code",
      "metadata": {
        "colab": {
          "base_uri": "https://localhost:8080/"
        },
        "id": "f21DtNMkjiqI",
        "outputId": "0cd64819-4ba2-4332-caf7-9db6bfac251a"
      },
      "source": [
        "Rohal = Student(\"Rohal\",7,12)\n",
        "Rohal.print_stud_details()\n",
        "Rohal.update_age(1)\n",
        "Rohal.update_class(9)"
      ],
      "execution_count": 5,
      "outputs": [
        {
          "output_type": "stream",
          "name": "stdout",
          "text": [
            "Student Rohal's Age is 12.\n",
            "He studies in class 7.\n",
            "Rohal's age is now 13\n",
            "Rohal's class is now 8\n"
          ]
        }
      ]
    },
    {
      "cell_type": "markdown",
      "metadata": {
        "id": "WRb9sz7HkUaX"
      },
      "source": [
        "# Encapsulation: Private Variables"
      ]
    },
    {
      "cell_type": "code",
      "metadata": {
        "id": "lsqAri1jkXjJ"
      },
      "source": [
        "class UserDat:\n",
        "\n",
        "    def __init__(self,user_id,password,balance):\n",
        "        self.__user_id = user_id\n",
        "        self.__password = password\n",
        "        self.__balance = balance\n",
        "\n",
        "    def viewDat(self,paswd):\n",
        "        if paswd == self.__password:\n",
        "            print(f\"User {self.__user_id}'s Balance is {self.__balance}.'\")\n",
        "        else:\n",
        "            print(\"Invalid Password.\")\n",
        "\n",
        "    def deposit(self,money,paswd):\n",
        "        if paswd == self.__password:\n",
        "            self.__balance += money\n",
        "            print(\"Money Deposited Successfully.\")\n",
        "        else:\n",
        "            print(\"Invalid Password.\")\n",
        "\n",
        "    def withdraw(self,money,paswd):\n",
        "        if paswd == self.__password:\n",
        "            self.__balance -= money\n",
        "            print(\"Money Withdrawn Successfully.\")\n",
        "        else:\n",
        "            print(\"Invalid Password.\")"
      ],
      "execution_count": 10,
      "outputs": []
    },
    {
      "cell_type": "code",
      "metadata": {
        "colab": {
          "base_uri": "https://localhost:8080/"
        },
        "id": "8b3XuW6cllwg",
        "outputId": "bf3aa59d-61aa-4021-b9df-800d0babd04a"
      },
      "source": [
        "Amit = UserDat(34525,\"rollzen\",1300000)\n",
        "Amit.deposit(50000,\"rollzen\")\n",
        "Amit.viewDat(\"rollzen\")\n",
        "Amit.withdraw(100000,\"rollzen\")\n",
        "Amit.viewDat(\"something\")"
      ],
      "execution_count": 11,
      "outputs": [
        {
          "output_type": "stream",
          "name": "stdout",
          "text": [
            "Money Deposited Successfully.\n",
            "User 34525's Balance is 1350000.'\n",
            "Money Withdrawn Successfully.\n",
            "Invalid Password.\n"
          ]
        }
      ]
    },
    {
      "cell_type": "markdown",
      "metadata": {
        "id": "t2yqInoAmNsm"
      },
      "source": [
        "# Parameterized Constructor"
      ]
    },
    {
      "cell_type": "code",
      "metadata": {
        "id": "l9_C-St7mZyp"
      },
      "source": [
        "class Data:\n",
        "    car = \"Toyota Prius\"\n",
        "    miles_driven = 42343\n",
        "    engine_type = \"diesel\"\n",
        "\n",
        "    def __init__(self,name=\"EMPTY\",age = 32,height_cm = 150):\n",
        "        self.name = name\n",
        "        self.age = age\n",
        "        self.height_cm = height_cm\n",
        "    \n",
        "    def carUsed(self):\n",
        "        print(f\"{self.name} uses {Data.car} driven for {Data.miles_driven} miles.\")\n",
        "    \n",
        "    def birthday(self):\n",
        "        print(f\"Happy Birthday, {self.name}!\")\n",
        "        self.age += 1\n",
        "    \n",
        "    def height_inc(self,val):\n",
        "        self.height_cm += val\n",
        "        print(f\"{self.name}'s height is {self.height_cm}.\")"
      ],
      "execution_count": 18,
      "outputs": []
    },
    {
      "cell_type": "code",
      "metadata": {
        "colab": {
          "base_uri": "https://localhost:8080/"
        },
        "id": "CXmcLTzhpLAA",
        "outputId": "716eb444-8b5d-4220-d313-7cef245169b9"
      },
      "source": [
        "Rahul = Data(\"Rahul\",19,170)\n",
        "Rahul.carUsed()\n",
        "Rahul.birthday()\n",
        "Rahul.height_inc(5)"
      ],
      "execution_count": 19,
      "outputs": [
        {
          "output_type": "stream",
          "name": "stdout",
          "text": [
            "Rahul uses Toyota Prius driven for 42343 miles.\n",
            "Happy Birthday, Rahul!\n",
            "Rahul's height is 175.\n"
          ]
        }
      ]
    }
  ]
}