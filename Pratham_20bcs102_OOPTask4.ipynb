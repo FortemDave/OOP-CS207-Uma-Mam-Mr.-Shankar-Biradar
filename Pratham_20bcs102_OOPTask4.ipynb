{
  "nbformat": 4,
  "nbformat_minor": 0,
  "metadata": {
    "colab": {
      "name": "Pratham_20bcs102_OOPTask4.ipynb",
      "provenance": [],
      "authorship_tag": "ABX9TyP8RIzj9E/JGNH9poFMRKoK",
      "include_colab_link": true
    },
    "kernelspec": {
      "name": "python3",
      "display_name": "Python 3"
    },
    "language_info": {
      "name": "python"
    }
  },
  "cells": [
    {
      "cell_type": "markdown",
      "metadata": {
        "id": "view-in-github",
        "colab_type": "text"
      },
      "source": [
        "<a href=\"https://colab.research.google.com/github/FortemDave/OOP-CS207-Uma-Mam-Mr.-Shankar-Biradar/blob/main/Pratham_20bcs102_OOPTask4.ipynb\" target=\"_parent\"><img src=\"https://colab.research.google.com/assets/colab-badge.svg\" alt=\"Open In Colab\"/></a>"
      ]
    },
    {
      "cell_type": "markdown",
      "metadata": {
        "id": "0vln6uortKMm"
      },
      "source": [
        "#Question 1"
      ]
    },
    {
      "cell_type": "code",
      "metadata": {
        "colab": {
          "base_uri": "https://localhost:8080/"
        },
        "id": "KmuRmQJXtSvw",
        "outputId": "27761f9c-a742-4acf-b261-71fdd3b8c5ac"
      },
      "source": [
        "class Node:\n",
        "    def __init__(self,value):\n",
        "        self._value = value\n",
        "        self.addr = None\n",
        "\n",
        "    def __del__(self):\n",
        "        print(str(self._value) + \" deleted.\")\n",
        "\n",
        "    @classmethod\n",
        "    def set_addr(self,cls):\n",
        "        self.addr = cls\n",
        "\n",
        "class Stack:\n",
        "    def __init__(self,top_pos = None):\n",
        "        if top_pos is None:\n",
        "            self.top_pos = None\n",
        "        else:\n",
        "            self.top_pos = Node(top_pos)\n",
        "\n",
        "    def is_empty(self):\n",
        "        if self.top_pos == None:\n",
        "            return True\n",
        "        return False\n",
        "\n",
        "    def push_val(self,value):\n",
        "        new_node = Node(value)\n",
        "        if not self.is_empty():\n",
        "            new_node.addr = self.top_pos\n",
        "        self.top_pos = new_node\n",
        "            \n",
        "    def del_val(self):\n",
        "        x = self.top_pos\n",
        "        self.top_pos = self.top_pos.addr\n",
        "\n",
        "    def display(self):\n",
        "        if self.top_pos is not None:\n",
        "            loop = self.top_pos\n",
        "            while loop is not None:\n",
        "                print(str(loop._value) + \" ->\",end=\" \")\n",
        "                loop = loop.addr\n",
        "            print(\"X\")\n",
        "    \n",
        "    def __del__(self):\n",
        "        del self.top_pos\n",
        "        print(\"Stack Deleted\")\n",
        "\n",
        "stk = Stack()\n",
        "print(stk.is_empty())\n",
        "stk.push_val(42)\n",
        "stk.push_val(41)\n",
        "stk.push_val(40)\n",
        "stk.push_val(39)\n",
        "stk.push_val(38)\n",
        "stk.display()\n",
        "stk.del_val()\n",
        "stk.del_val()\n",
        "stk.display()"
      ],
      "execution_count": null,
      "outputs": [
        {
          "output_type": "stream",
          "name": "stdout",
          "text": [
            "40 deleted.\n",
            "41 deleted.\n",
            "42 deleted.\n",
            "Stack Deleted\n",
            "True\n",
            "38 -> 39 -> 40 -> 41 -> 42 -> X\n",
            "38 deleted.\n",
            "39 deleted.\n",
            "40 -> 41 -> 42 -> X\n"
          ]
        }
      ]
    },
    {
      "cell_type": "markdown",
      "metadata": {
        "id": "qsBHfhZFtWO6"
      },
      "source": [
        "#Question 2"
      ]
    },
    {
      "cell_type": "code",
      "metadata": {
        "colab": {
          "base_uri": "https://localhost:8080/"
        },
        "id": "2be6uheatXaX",
        "outputId": "8e7b70a9-2cd4-4919-f3af-5e2b14525dc4"
      },
      "source": [
        "class Rectangle:\n",
        "    def __init__(self,length=5,breadth=5):\n",
        "        self.length     = length\n",
        "        self.breadth    = breadth\n",
        "        self.area()\n",
        "\n",
        "    def area(self):\n",
        "        print(self.breadth * self.length)\n",
        "\n",
        "class Rect:\n",
        "    def __init__(self):\n",
        "        self.length = 50\n",
        "        self.breadth = 100\n",
        "        self.area()\n",
        "\n",
        "    def area(self):\n",
        "        print(self.breadth * self.length)\n",
        "\n",
        "rekt1= Rectangle(5,12)\n",
        "rekt2= Rect()"
      ],
      "execution_count": null,
      "outputs": [
        {
          "output_type": "stream",
          "name": "stdout",
          "text": [
            "60\n",
            "5000\n"
          ]
        }
      ]
    },
    {
      "cell_type": "markdown",
      "metadata": {
        "id": "Ik03jmj6x9Wm"
      },
      "source": [
        "#Question 3"
      ]
    },
    {
      "cell_type": "code",
      "metadata": {
        "colab": {
          "base_uri": "https://localhost:8080/"
        },
        "id": "Y8UNNVnHx_NP",
        "outputId": "b80bc286-ad37-4b27-f9d9-85d2dd586221"
      },
      "source": [
        "class Node:\n",
        "    def __init__(self,value):\n",
        "        self._value = value\n",
        "        self.addr = None\n",
        "\n",
        "    def __del__(self):\n",
        "        print(str(self._value) + \" deleted.\")\n",
        "\n",
        "    @classmethod\n",
        "    def set_addr(self,cls):\n",
        "        self.addr = cls\n",
        "\n",
        "class Queue:\n",
        "    def __init__(self,top_pos = None):\n",
        "        if top_pos is None:\n",
        "            self.top_pos = None\n",
        "        else:\n",
        "            self.top_pos = Node(top_pos)\n",
        "\n",
        "    def is_empty(self):\n",
        "        if self.top_pos == None:\n",
        "            return True\n",
        "        return False\n",
        "\n",
        "    def enqueue(self,value):\n",
        "        new_node = Node(value)\n",
        "        if not self.is_empty():\n",
        "            loop = self.top_pos\n",
        "            while loop.addr != None:\n",
        "                loop = loop.addr\n",
        "            loop.addr = new_node\n",
        "        else:\n",
        "            self.top_pos = new_node\n",
        "\n",
        "    def dequeue(self):\n",
        "        if not self.is_empty():\n",
        "            loop = self.top_pos\n",
        "            while loop.addr != None and loop.addr.addr != None:\n",
        "                loop = loop.addr\n",
        "            loop.addr = None\n",
        "\n",
        "    def display(self):\n",
        "        if not self.is_empty():\n",
        "            loop = self.top_pos\n",
        "            while loop != None:\n",
        "                print(str(loop._value) + \" ->\",end=\" \")\n",
        "                loop = loop.addr\n",
        "            print(\"X\")\n",
        "    \n",
        "    def __del__(self):\n",
        "        del self.top_pos\n",
        "        print(\"Queue Deleted\")\n",
        "\n",
        "stk = Queue()\n",
        "print(stk.is_empty())\n",
        "stk.enqueue(42)\n",
        "stk.enqueue(41)\n",
        "stk.enqueue(40)\n",
        "stk.enqueue(39)\n",
        "stk.enqueue(38)\n",
        "print(\"------------------------\")\n",
        "stk.display()\n",
        "stk.dequeue()\n",
        "stk.dequeue()\n",
        "print(\"------------------------\")\n",
        "stk.display()"
      ],
      "execution_count": null,
      "outputs": [
        {
          "output_type": "stream",
          "name": "stdout",
          "text": [
            "40 deleted.\n",
            "41 deleted.\n",
            "42 deleted.\n",
            "Stack Deleted\n",
            "True\n",
            "------------------------\n",
            "42 -> 41 -> 40 -> 39 -> 38 -> X\n",
            "38 deleted.\n",
            "39 deleted.\n",
            "------------------------\n",
            "42 -> 41 -> 40 -> X\n"
          ]
        }
      ]
    }
  ]
}